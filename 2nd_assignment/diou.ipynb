{
  "cells": [
    {
      "cell_type": "markdown",
      "metadata": {
        "id": "ghruJa9ITPvB"
      },
      "source": [
        "# Imports"
      ]
    },
    {
      "cell_type": "code",
      "execution_count": 1,
      "metadata": {
        "colab": {
          "base_uri": "https://localhost:8080/"
        },
        "id": "43E5LMsMqLEC",
        "outputId": "a63b914a-e87f-4def-a584-4fabf812d7f7"
      },
      "outputs": [],
      "source": [
        "# from google.colab import drive\n",
        "# drive.mount('/content/drive')\n",
        "\n",
        "# !cp '/content/drive/MyDrive/dermoscopy_classification.tar.gz' .\n",
        "# !tar -xvzf 'dermoscopy_classification.tar.gz'\n",
        "data_dir = '/home/ilias/Desktop/Ergasies/ml/2nd_assignment/dermoscopy_classification'"
      ]
    },
    {
      "cell_type": "code",
      "execution_count": 2,
      "metadata": {
        "id": "ugiSdGA9sAS3"
      },
      "outputs": [],
      "source": [
        "import torch\n",
        "from torch.utils.data import DataLoader\n",
        "from torch.utils.data import Dataset\n",
        "import torchvision\n",
        "import torchvision.transforms as transforms\n",
        "import pandas as pd\n",
        "from glob import glob\n",
        "import os\n",
        "from torch.utils.data import random_split\n",
        "from torch import nn, optim\n",
        "import matplotlib.pyplot as plt"
      ]
    },
    {
      "cell_type": "markdown",
      "metadata": {
        "id": "1q8Vt4YJOVU5"
      },
      "source": [
        "# 2.1-2.2 Μέθοδοι __init__(), __len__(), __getitem__()"
      ]
    },
    {
      "cell_type": "code",
      "execution_count": 3,
      "metadata": {
        "id": "ovrtH0ANxNgC"
      },
      "outputs": [],
      "source": [
        "class MLProject2Dataset(torch.utils.data.Dataset):\n",
        "\n",
        "    def __init__(self, data_dir, metadata_fname='/home/ilias/Desktop/Ergasies/ml/2nd_assignment/dermoscopy_classification/metadata.csv', transform=None):\n",
        "\n",
        "        self.data_dir = data_dir\n",
        "        self.transform = transform\n",
        "\n",
        "        # Find all images in the data directory\n",
        "        image_paths = []\n",
        "        for part in [\"part_1\", \"part_2\"]:\n",
        "            part_path = os.path.join(data_dir, part)\n",
        "            image_paths += glob(os.path.join(part_path, \"*.jpg\"))\n",
        "\n",
        "        # Create a DataFrame with the image paths\n",
        "        df = pd.DataFrame({\"path\": image_paths, \"image_id\": [os.path.splitext(os.path.basename(p))[0] for p in image_paths]})\n",
        "\n",
        "        # Load the metadata\n",
        "        metadata_path = os.path.join(data_dir, metadata_fname)\n",
        "        metadata = pd.read_csv(metadata_path)\n",
        "\n",
        "        # Convert DX column to integers\n",
        "        metadata['dx'] = pd.Categorical(metadata['dx']).codes\n",
        "\n",
        "        # Combine df and dx label into a pandas DataFrame\n",
        "        df = pd.merge(df, metadata[['image_id', 'dx']], on='image_id')\n",
        "        self.df = df\n",
        "\n",
        "\n",
        "    def __len__(self):\n",
        "        return len(self.df)\n",
        "\n",
        "\n",
        "    def __getitem__(self, idx):\n",
        "\n",
        "        img_path = self.df.iloc[idx, 0]  # path is in 1st column\n",
        "        label = self.df.iloc[idx, 2]  # dx is in 3rd column\n",
        "        image = torchvision.io.read_image(img_path).float() / 255.0  # Read image and normalize pixel values to [0-1]\n",
        "\n",
        "        X = image\n",
        "        y = label\n",
        "        return (X, y)"
      ]
    },
    {
      "cell_type": "markdown",
      "metadata": {
        "id": "S_99gJJIOjRs"
      },
      "source": [
        "# 2.3 Train / validation / test split και Data loaders"
      ]
    },
    {
      "cell_type": "code",
      "execution_count": 4,
      "metadata": {
        "id": "nAnGNm-WOSPo"
      },
      "outputs": [],
      "source": [
        "dataset = MLProject2Dataset(data_dir)\n",
        "\n",
        "# Define the sizes for train, validation, and test sets\n",
        "dataset_size = len(dataset)\n",
        "train_size = int(0.6 * dataset_size)\n",
        "val_size = int(0.1 * dataset_size)\n",
        "test_size = dataset_size - train_size - val_size\n",
        "\n",
        "# Use the random_split method with a fixed seed\n",
        "generator = torch.Generator()\n",
        "generator.manual_seed(42)\n",
        "\n",
        "train_set, val_set, test_set = random_split(dataset, [train_size, val_size, test_size], generator=generator)\n",
        "\n",
        "batch_size=64\n",
        "trainloader = DataLoader(train_set, batch_size=batch_size, shuffle=True)\n",
        "valloader = DataLoader(val_set, batch_size=batch_size)\n",
        "testloader = DataLoader(test_set, batch_size=batch_size)"
      ]
    },
    {
      "cell_type": "markdown",
      "metadata": {
        "id": "EPLBq5hNSeuv"
      },
      "source": [
        "# 2.4 Μετασχηματισμοί\n",
        "\n"
      ]
    },
    {
      "cell_type": "code",
      "execution_count": 5,
      "metadata": {
        "id": "3kPtE5JZWwfw"
      },
      "outputs": [],
      "source": [
        "# Define the resize and normalization transformations\n",
        "m, n = 224, 224  # Define your desired dimensions m x n\n",
        "resize = transforms.Resize((m, n))\n",
        "normalize = transforms.Normalize(mean=(0.5, 0.5, 0.5), std=(0.5, 0.5, 0.5))\n",
        "\n",
        "# Combine transformations for the dataset\n",
        "composed_transforms = transforms.Compose([resize, transforms.ToTensor(), normalize])\n",
        "\n",
        "# Apply transformations to train_set, val_set, test_set\n",
        "train_set.transform = composed_transforms\n",
        "val_set.transform = composed_transforms\n",
        "test_set.transform = composed_transforms"
      ]
    },
    {
      "cell_type": "markdown",
      "metadata": {
        "id": "VG7OtoOta4is"
      },
      "source": [
        "# 3.1 train_net"
      ]
    },
    {
      "cell_type": "code",
      "execution_count": 7,
      "metadata": {
        "id": "N59PKTlwa8bY"
      },
      "outputs": [],
      "source": [
        "def train_net(model: nn.Module, trainloader: DataLoader, valloader: DataLoader = None,\n",
        "              epochs: int = 10, optimizer: optim = None, loss: nn.modules.loss = None,\n",
        "              device: str = 'cpu', print_period: int = 10) -> None:\n",
        "\n",
        "      model.train()\n",
        "\n",
        "      for epoch in range(epochs):\n",
        "          running_loss = 0.0\n",
        "\n",
        "          for batch, (X, y) in enumerate(trainloader, 0):\n",
        "              # Move to device\n",
        "              X, y = X.to(device), y.to(device)\n",
        "\n",
        "              # Zero gradients\n",
        "              optimizer.zero_grad()\n",
        "\n",
        "              # Forward pass\n",
        "              pred = model(X)\n",
        "              current_loss = loss(pred, y)\n",
        "\n",
        "              # Αccuracy\n",
        "              preds = pred.argmax(dim=1)\n",
        "              corrects = preds == y\n",
        "              running_corrects += corrects.sum().item()\n",
        "\n",
        "              # Backpropagation\n",
        "              current_loss.backward()\n",
        "\n",
        "              # Parameter update\n",
        "              optimizer.step()\n",
        "\n",
        "              # Print\n",
        "              running_loss += current_loss.item()\n",
        "              if batch % print_period == print_period-1:\n",
        "                  avg_loss = running_loss / print_period\n",
        "                  print(f'[Epoch: {epoch}, batch: {batch:5d}] loss: {avg_loss:.3f}, acc: {running_corrects / len(trainloader.dataset):.4f}')\n",
        "                  running_loss = 0.0\n",
        "\n",
        "                  if valloader is not None:\n",
        "                      val_loss = 0.0\n",
        "                      val_correct = 0\n",
        "                      val_total = 0\n",
        "\n",
        "                      model.eval()\n",
        "                      with torch.no_grad():\n",
        "                          for data in valloader:\n",
        "                              inputs, labels = data[0].to(device), data[1].to(device)\n",
        "                              outputs = model(inputs)\n",
        "                              val_loss += loss(outputs, labels).item()\n",
        "\n",
        "                              _, predicted = torch.max(outputs, 1)\n",
        "                              val_total += labels.size(0)\n",
        "                              val_correct += (predicted == labels).sum().item()\n",
        "\n",
        "                      print(f'Validation Loss: {val_loss / len(valloader):.3f}, '\n",
        "                            f'Validation Accuracy: {(val_correct / val_total) * 100:.2f}%')"
      ]
    },
    {
      "cell_type": "markdown",
      "metadata": {
        "id": "yrMbTs6Go8pa"
      },
      "source": [
        "# 3.2 test_net"
      ]
    },
    {
      "cell_type": "code",
      "execution_count": 8,
      "metadata": {
        "id": "cdAcjMAgo-zb"
      },
      "outputs": [],
      "source": [
        "def test_net(model: nn.Module, testloader: torch.utils.data.DataLoader,\n",
        "             loss_fn: nn.modules.loss = None, device: str = 'cpu') -> None:\n",
        "\n",
        "    model.eval()\n",
        "    test_loss = 0.0\n",
        "    correct = 0\n",
        "    total = 0\n",
        "\n",
        "    with torch.no_grad():\n",
        "        for (X, y) in testloader:\n",
        "            inputs, labels = X.to(device), y.to(device)\n",
        "            outputs = model(inputs)\n",
        "            test_loss += loss_fn(outputs, labels).item()\n",
        "\n",
        "            _, predicted = torch.max(outputs, 1)\n",
        "            total += labels.size(0)\n",
        "            correct += (predicted == labels).sum().item()\n",
        "\n",
        "    accuracy = correct / total\n",
        "    average_loss = test_loss / len(testloader)\n",
        "\n",
        "    print(f'Test Loss: {average_loss:.3f}, Test Accuracy: {accuracy * 100:.2f}%')\n",
        "\n",
        "    return average_loss, accuracy"
      ]
    },
    {
      "cell_type": "markdown",
      "metadata": {
        "id": "rvojnnoFtVZw"
      },
      "source": [
        "# 4 Απλό ΣΝ∆"
      ]
    },
    {
      "cell_type": "code",
      "execution_count": 10,
      "metadata": {
        "id": "BbH786o2tZUl"
      },
      "outputs": [],
      "source": [
        "class MyCNN(nn.Module):\n",
        "    def __init__(self):\n",
        "\n",
        "        super(MyCNN, self).__init__()\n",
        "\n",
        "        self.conv1 = nn.Conv2d(in_channels=3, out_channels=32, kernel_size=3, padding=1)\n",
        "        self.relu1 = nn.ReLU()\n",
        "        self.pool1 = nn.MaxPool2d(kernel_size=2, stride=2)\n",
        "\n",
        "        self.conv2 = nn.Conv2d(in_channels=32, out_channels=64, kernel_size=3, padding=1)\n",
        "        self.relu2 = nn.ReLU()\n",
        "        self.pool2 = nn.MaxPool2d(kernel_size=2, stride=2)\n",
        "\n",
        "        self.conv3 = nn.Conv2d(in_channels=64, out_channels=64, kernel_size=3, padding=1)\n",
        "        self.relu3 = nn.ReLU()\n",
        "        self.pool3 = nn.MaxPool2d(kernel_size=2, stride=2)\n",
        "\n",
        "        self.flatten = nn.Flatten()\n",
        "        self.fc = nn.Linear(268800, 64)\n",
        "\n",
        "    def forward(self, x):\n",
        "        x = self.pool1(self.relu1(self.conv1(x)))\n",
        "        x = self.pool2(self.relu2(self.conv2(x)))\n",
        "        x = self.pool3(self.relu3(self.conv3(x)))\n",
        "        x = self.flatten(x)\n",
        "        x = self.fc(x)\n",
        "        return x"
      ]
    },
    {
      "cell_type": "code",
      "execution_count": 11,
      "metadata": {
        "id": "BJegPZs5xB1R"
      },
      "outputs": [
        {
          "ename": "RuntimeError",
          "evalue": "expected scalar type Long but found Char",
          "output_type": "error",
          "traceback": [
            "\u001b[0;31m---------------------------------------------------------------------------\u001b[0m",
            "\u001b[0;31mRuntimeError\u001b[0m                              Traceback (most recent call last)",
            "\u001b[1;32m/home/ilias/Desktop/Ergasies/ml/2nd_assignment/diou.ipynb Cell 16\u001b[0m line \u001b[0;36m2\n\u001b[1;32m     <a href='vscode-notebook-cell:/home/ilias/Desktop/Ergasies/ml/2nd_assignment/diou.ipynb#X21sZmlsZQ%3D%3D?line=19'>20</a>\u001b[0m optimizer\u001b[39m.\u001b[39mzero_grad()\n\u001b[1;32m     <a href='vscode-notebook-cell:/home/ilias/Desktop/Ergasies/ml/2nd_assignment/diou.ipynb#X21sZmlsZQ%3D%3D?line=20'>21</a>\u001b[0m outputs \u001b[39m=\u001b[39m model(inputs)\n\u001b[0;32m---> <a href='vscode-notebook-cell:/home/ilias/Desktop/Ergasies/ml/2nd_assignment/diou.ipynb#X21sZmlsZQ%3D%3D?line=21'>22</a>\u001b[0m loss \u001b[39m=\u001b[39m criterion(outputs, labels)\n\u001b[1;32m     <a href='vscode-notebook-cell:/home/ilias/Desktop/Ergasies/ml/2nd_assignment/diou.ipynb#X21sZmlsZQ%3D%3D?line=22'>23</a>\u001b[0m loss\u001b[39m.\u001b[39mbackward()\n\u001b[1;32m     <a href='vscode-notebook-cell:/home/ilias/Desktop/Ergasies/ml/2nd_assignment/diou.ipynb#X21sZmlsZQ%3D%3D?line=23'>24</a>\u001b[0m optimizer\u001b[39m.\u001b[39mstep()\n",
            "File \u001b[0;32m~/miniconda3/envs/diou/lib/python3.10/site-packages/torch/nn/modules/module.py:1518\u001b[0m, in \u001b[0;36mModule._wrapped_call_impl\u001b[0;34m(self, *args, **kwargs)\u001b[0m\n\u001b[1;32m   1516\u001b[0m     \u001b[39mreturn\u001b[39;00m \u001b[39mself\u001b[39m\u001b[39m.\u001b[39m_compiled_call_impl(\u001b[39m*\u001b[39margs, \u001b[39m*\u001b[39m\u001b[39m*\u001b[39mkwargs)  \u001b[39m# type: ignore[misc]\u001b[39;00m\n\u001b[1;32m   1517\u001b[0m \u001b[39melse\u001b[39;00m:\n\u001b[0;32m-> 1518\u001b[0m     \u001b[39mreturn\u001b[39;00m \u001b[39mself\u001b[39;49m\u001b[39m.\u001b[39;49m_call_impl(\u001b[39m*\u001b[39;49margs, \u001b[39m*\u001b[39;49m\u001b[39m*\u001b[39;49mkwargs)\n",
            "File \u001b[0;32m~/miniconda3/envs/diou/lib/python3.10/site-packages/torch/nn/modules/module.py:1527\u001b[0m, in \u001b[0;36mModule._call_impl\u001b[0;34m(self, *args, **kwargs)\u001b[0m\n\u001b[1;32m   1522\u001b[0m \u001b[39m# If we don't have any hooks, we want to skip the rest of the logic in\u001b[39;00m\n\u001b[1;32m   1523\u001b[0m \u001b[39m# this function, and just call forward.\u001b[39;00m\n\u001b[1;32m   1524\u001b[0m \u001b[39mif\u001b[39;00m \u001b[39mnot\u001b[39;00m (\u001b[39mself\u001b[39m\u001b[39m.\u001b[39m_backward_hooks \u001b[39mor\u001b[39;00m \u001b[39mself\u001b[39m\u001b[39m.\u001b[39m_backward_pre_hooks \u001b[39mor\u001b[39;00m \u001b[39mself\u001b[39m\u001b[39m.\u001b[39m_forward_hooks \u001b[39mor\u001b[39;00m \u001b[39mself\u001b[39m\u001b[39m.\u001b[39m_forward_pre_hooks\n\u001b[1;32m   1525\u001b[0m         \u001b[39mor\u001b[39;00m _global_backward_pre_hooks \u001b[39mor\u001b[39;00m _global_backward_hooks\n\u001b[1;32m   1526\u001b[0m         \u001b[39mor\u001b[39;00m _global_forward_hooks \u001b[39mor\u001b[39;00m _global_forward_pre_hooks):\n\u001b[0;32m-> 1527\u001b[0m     \u001b[39mreturn\u001b[39;00m forward_call(\u001b[39m*\u001b[39;49margs, \u001b[39m*\u001b[39;49m\u001b[39m*\u001b[39;49mkwargs)\n\u001b[1;32m   1529\u001b[0m \u001b[39mtry\u001b[39;00m:\n\u001b[1;32m   1530\u001b[0m     result \u001b[39m=\u001b[39m \u001b[39mNone\u001b[39;00m\n",
            "File \u001b[0;32m~/miniconda3/envs/diou/lib/python3.10/site-packages/torch/nn/modules/loss.py:1179\u001b[0m, in \u001b[0;36mCrossEntropyLoss.forward\u001b[0;34m(self, input, target)\u001b[0m\n\u001b[1;32m   1178\u001b[0m \u001b[39mdef\u001b[39;00m \u001b[39mforward\u001b[39m(\u001b[39mself\u001b[39m, \u001b[39minput\u001b[39m: Tensor, target: Tensor) \u001b[39m-\u001b[39m\u001b[39m>\u001b[39m Tensor:\n\u001b[0;32m-> 1179\u001b[0m     \u001b[39mreturn\u001b[39;00m F\u001b[39m.\u001b[39;49mcross_entropy(\u001b[39minput\u001b[39;49m, target, weight\u001b[39m=\u001b[39;49m\u001b[39mself\u001b[39;49m\u001b[39m.\u001b[39;49mweight,\n\u001b[1;32m   1180\u001b[0m                            ignore_index\u001b[39m=\u001b[39;49m\u001b[39mself\u001b[39;49m\u001b[39m.\u001b[39;49mignore_index, reduction\u001b[39m=\u001b[39;49m\u001b[39mself\u001b[39;49m\u001b[39m.\u001b[39;49mreduction,\n\u001b[1;32m   1181\u001b[0m                            label_smoothing\u001b[39m=\u001b[39;49m\u001b[39mself\u001b[39;49m\u001b[39m.\u001b[39;49mlabel_smoothing)\n",
            "File \u001b[0;32m~/miniconda3/envs/diou/lib/python3.10/site-packages/torch/nn/functional.py:3053\u001b[0m, in \u001b[0;36mcross_entropy\u001b[0;34m(input, target, weight, size_average, ignore_index, reduce, reduction, label_smoothing)\u001b[0m\n\u001b[1;32m   3051\u001b[0m \u001b[39mif\u001b[39;00m size_average \u001b[39mis\u001b[39;00m \u001b[39mnot\u001b[39;00m \u001b[39mNone\u001b[39;00m \u001b[39mor\u001b[39;00m reduce \u001b[39mis\u001b[39;00m \u001b[39mnot\u001b[39;00m \u001b[39mNone\u001b[39;00m:\n\u001b[1;32m   3052\u001b[0m     reduction \u001b[39m=\u001b[39m _Reduction\u001b[39m.\u001b[39mlegacy_get_string(size_average, reduce)\n\u001b[0;32m-> 3053\u001b[0m \u001b[39mreturn\u001b[39;00m torch\u001b[39m.\u001b[39;49m_C\u001b[39m.\u001b[39;49m_nn\u001b[39m.\u001b[39;49mcross_entropy_loss(\u001b[39minput\u001b[39;49m, target, weight, _Reduction\u001b[39m.\u001b[39;49mget_enum(reduction), ignore_index, label_smoothing)\n",
            "\u001b[0;31mRuntimeError\u001b[0m: expected scalar type Long but found Char"
          ]
        }
      ],
      "source": [
        "# Επανορίζουμε το μοντέλο μας και τον ορισμό της απώλειας και του optimizer\n",
        "model = MyCNN()\n",
        "criterion = nn.CrossEntropyLoss()\n",
        "optimizer = optim.SGD(model.parameters(), lr=0.1)\n",
        "\n",
        "# Λίστες για την καταγραφή των μετρήσεων\n",
        "train_losses = []\n",
        "train_accuracies = []\n",
        "\n",
        "# Εκπαίδευση του μοντέλου για 20 εποχές\n",
        "epochs = 20\n",
        "for epoch in range(epochs):\n",
        "    running_loss = 0.0\n",
        "    correct = 0\n",
        "    total = 0\n",
        "\n",
        "    for i, data in enumerate(trainloader, 0):\n",
        "        inputs, labels = data[0], data[1]\n",
        "\n",
        "        optimizer.zero_grad()\n",
        "        outputs = model(inputs)\n",
        "        loss = criterion(outputs, labels)\n",
        "        loss.backward()\n",
        "        optimizer.step()\n",
        "\n",
        "        running_loss += loss.item()\n",
        "\n",
        "        _, predicted = torch.max(outputs, 1)\n",
        "        total += labels.size(0)\n",
        "        correct += (predicted == labels).sum().item()\n",
        "\n",
        "    epoch_loss = running_loss / len(trainloader)\n",
        "    epoch_accuracy = correct / total\n",
        "    train_losses.append(epoch_loss)\n",
        "    train_accuracies.append(epoch_accuracy)\n",
        "\n",
        "    print(f\"Epoch [{epoch + 1}/{epochs}], Loss: {epoch_loss:.4f}, Accuracy: {epoch_accuracy * 100:.2f}%\")\n",
        "\n",
        "# Αξιολόγηση του μοντέλου στο σύνολο δοκιμής\n",
        "test_loss, test_accuracy = test_net(model, testloader, criterion)\n",
        "print(f\"Test Loss: {test_loss:.4f}, Test Accuracy: {test_accuracy * 100:.2f}%\")\n",
        "\n",
        "# Απεικόνιση των μετρήσεων απώλειας και ευστοχίας κατά την εκπαίδευση\n",
        "plt.figure(figsize=(10, 4))\n",
        "plt.subplot(1, 2, 1)\n",
        "plt.plot(train_losses, label='Training Loss')\n",
        "plt.xlabel('Epoch')\n",
        "plt.ylabel('Loss')\n",
        "plt.legend()\n",
        "\n",
        "plt.subplot(1, 2, 2)\n",
        "plt.plot(train_accuracies, label='Training Accuracy')\n",
        "plt.xlabel('Epoch')\n",
        "plt.ylabel('Accuracy')\n",
        "plt.legend()\n",
        "\n",
        "plt.tight_layout()\n",
        "plt.show()"
      ]
    }
  ],
  "metadata": {
    "colab": {
      "provenance": []
    },
    "kernelspec": {
      "display_name": "Python 3",
      "name": "python3"
    },
    "language_info": {
      "codemirror_mode": {
        "name": "ipython",
        "version": 3
      },
      "file_extension": ".py",
      "mimetype": "text/x-python",
      "name": "python",
      "nbconvert_exporter": "python",
      "pygments_lexer": "ipython3",
      "version": "3.10.13"
    }
  },
  "nbformat": 4,
  "nbformat_minor": 0
}
