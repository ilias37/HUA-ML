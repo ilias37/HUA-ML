{
  "nbformat": 4,
  "nbformat_minor": 0,
  "metadata": {
    "colab": {
      "provenance": [],
      "collapsed_sections": [
        "1q8Vt4YJOVU5",
        "S_99gJJIOjRs",
        "EPLBq5hNSeuv",
        "yrMbTs6Go8pa",
        "rvojnnoFtVZw"
      ]
    },
    "kernelspec": {
      "name": "python3",
      "display_name": "Python 3"
    },
    "language_info": {
      "name": "python"
    }
  },
  "cells": [
    {
      "cell_type": "markdown",
      "source": [
        "# Imports"
      ],
      "metadata": {
        "id": "ghruJa9ITPvB"
      }
    },
    {
      "cell_type": "code",
      "source": [
        "from google.colab import drive\n",
        "drive.mount('/content/drive')\n",
        "\n",
        "# !cp '/content/drive/MyDrive/dermoscopy_classification.tar.gz' .\n",
        "# !tar -xvzf 'dermoscopy_classification.tar.gz'\n",
        "data_dir = '/content/drive/MyDrive/dermoscopy_classification'\n",
        "\n",
        "import torch\n",
        "from torch.utils.data import DataLoader\n",
        "from torch.utils.data import Dataset\n",
        "import torchvision\n",
        "import torchvision.transforms as transforms\n",
        "import pandas as pd\n",
        "from glob import glob\n",
        "import os\n",
        "from torch.utils.data import random_split\n",
        "from torch import nn, optim\n",
        "import matplotlib.pyplot as plt\n",
        "from sklearn.metrics import confusion_matrix\n",
        "import seaborn as sns"
      ],
      "metadata": {
        "id": "ugiSdGA9sAS3"
      },
      "execution_count": null,
      "outputs": []
    },
    {
      "cell_type": "markdown",
      "source": [
        "# 2.1-2.2 Μέθοδοι __init__(), **__len__**(), __getitem__()"
      ],
      "metadata": {
        "id": "1q8Vt4YJOVU5"
      }
    },
    {
      "cell_type": "code",
      "source": [
        "class MLProject2Dataset(torch.utils.data.Dataset):\n",
        "\n",
        "    def __init__(self, data_dir, metadata_fname='/content/drive/MyDrive/dermoscopy_classification/metadata.csv', transform=None):\n",
        "\n",
        "        self.data_dir = data_dir\n",
        "        self.transform = transform\n",
        "\n",
        "        # Find all images in the data directory\n",
        "        image_paths = []\n",
        "        for part in [\"part_1\", \"part_2\"]:\n",
        "            part_path = os.path.join(data_dir, part)\n",
        "            image_paths += glob(os.path.join(part_path, \"*.jpg\"))\n",
        "\n",
        "        # Create a DataFrame with the image paths\n",
        "        df = pd.DataFrame({\"path\": image_paths, \"image_id\": [os.path.splitext(os.path.basename(p))[0] for p in image_paths]})\n",
        "\n",
        "        # Load the metadata\n",
        "        metadata_path = os.path.join(data_dir, metadata_fname)\n",
        "        metadata = pd.read_csv(metadata_path)\n",
        "\n",
        "        # Convert DX column to integers\n",
        "        metadata['dx'] = pd.Categorical(metadata['dx']).codes\n",
        "\n",
        "        # Combine df and dx label into a pandas DataFrame\n",
        "        df = pd.merge(df, metadata[['image_id', 'dx']], on='image_id')\n",
        "        self.df = df\n",
        "\n",
        "\n",
        "    def __len__(self):\n",
        "        return len(self.df)\n",
        "\n",
        "\n",
        "    def __getitem__(self, idx):\n",
        "\n",
        "        img_path = self.df.iloc[idx, 0]  # path is in 1st column\n",
        "        label = torch.tensor(int(self.df.iloc[idx, 2]))  # dx is in 3rd column\n",
        "        image = torchvision.io.read_image(img_path).float() / 255.0  # Read image and normalize pixel values to [0-1]\n",
        "\n",
        "        if self.transform:\n",
        "            image = self.transform(image)\n",
        "\n",
        "        return image, label"
      ],
      "metadata": {
        "id": "ovrtH0ANxNgC"
      },
      "execution_count": 7,
      "outputs": []
    },
    {
      "cell_type": "markdown",
      "source": [
        "# 2.3 Train / validation / test split και Data loaders - 2.4 Μετασχηματισμοί"
      ],
      "metadata": {
        "id": "S_99gJJIOjRs"
      }
    },
    {
      "cell_type": "code",
      "source": [
        "# Define transformations\n",
        "m, n = 50, 62\n",
        "data_transforms = transforms.Compose([\n",
        "    transforms.Resize((m, n)),  # Set m and n to desired dimensions\n",
        "    transforms.Normalize((0.5, 0.5, 0.5), (0.5, 0.5, 0.5))  # Mean and std deviation for normalization\n",
        "])\n",
        "\n",
        "dataset = MLProject2Dataset(data_dir, transform=data_transforms)\n",
        "\n",
        "# Define the sizes for train, validation, and test sets\n",
        "train_size = int(0.6 * len(dataset))\n",
        "val_size = int(0.1 * len(dataset))\n",
        "test_size = len(dataset) - train_size - val_size\n",
        "\n",
        "# Use the random_split method with a fixed seed\n",
        "generator = torch.Generator().manual_seed(42)\n",
        "train_set, val_set, test_set = random_split(dataset, [train_size, val_size, test_size], generator=generator)\n",
        "\n",
        "trainloader = DataLoader(train_set, batch_size=32, shuffle=True)\n",
        "valloader = DataLoader(val_set, batch_size=32)\n",
        "testloader = DataLoader(test_set, batch_size=32)"
      ],
      "metadata": {
        "id": "nAnGNm-WOSPo"
      },
      "execution_count": 8,
      "outputs": []
    },
    {
      "cell_type": "markdown",
      "source": [
        "# 3.1 train_net"
      ],
      "metadata": {
        "id": "VG7OtoOta4is"
      }
    },
    {
      "cell_type": "code",
      "source": [
        "def train_net(model: nn.Module, trainloader: DataLoader, valloader: DataLoader = None,\n",
        "              epochs: int = 10, optimizer: optim = None, loss: nn.modules.loss = None,\n",
        "              device: str = 'cpu', print_period: int = 10):\n",
        "\n",
        "    train_losses = []\n",
        "    train_accuracies = []\n",
        "    val_losses = []\n",
        "    val_accuracies = []\n",
        "\n",
        "    print(device)\n",
        "    model.to(device)\n",
        "\n",
        "    model.train()  # Set the model to training mode\n",
        "    for epoch in range(epochs):\n",
        "        train_loss = 0.0\n",
        "        train_correct = 0\n",
        "        total = 0\n",
        "\n",
        "        for data, target in trainloader:\n",
        "            data, target = data.to(device), target.to(device)\n",
        "            optimizer.zero_grad()\n",
        "            output = model(data)\n",
        "            tr_loss = loss(output, target)\n",
        "            tr_loss.backward()\n",
        "            optimizer.step()\n",
        "\n",
        "            train_loss += tr_loss.item() #* data.size(0)\n",
        "            _, pred = torch.max(output, 1)\n",
        "            train_correct += (pred == target).sum().item()\n",
        "            total += target.size(0)\n",
        "\n",
        "        train_loss /= len(trainloader.dataset)\n",
        "        train_acc = 100.0 * train_correct / total\n",
        "\n",
        "        train_losses.append(train_loss)\n",
        "        train_accuracies.append(train_acc)\n",
        "\n",
        "\n",
        "        model.eval()\n",
        "        val_loss = 0.0\n",
        "        val_correct = 0\n",
        "        val_total = 0\n",
        "\n",
        "        with torch.no_grad():\n",
        "            for data, target in valloader:\n",
        "                data, target = data.to(device), target.to(device)\n",
        "                output = model(data)\n",
        "                vl_loss = loss(output, target)\n",
        "                val_loss += vl_loss.item() #* data.size(0)\n",
        "                _, pred = torch.max(output, 1)\n",
        "                val_correct += (pred == target).sum().item()\n",
        "                val_total += target.size(0)\n",
        "\n",
        "        val_loss /= len(valloader.dataset)\n",
        "        val_acc = 100.0 * val_correct / val_total\n",
        "\n",
        "        val_losses.append(val_loss)\n",
        "        val_accuracies.append(val_acc)\n",
        "\n",
        "        print(f\"Epoch [{epoch+1}/{epochs}] - \"\n",
        "              f\"Train Loss: {train_loss:.4f}, Train Accuracy: {train_acc:.2f}% - \"\n",
        "              f\"Val Loss: {val_loss:.4f}, Val Accuracy: {val_acc:.2f}%\")\n",
        "\n",
        "    return train_losses, train_accuracies, val_losses, val_accuracies"
      ],
      "metadata": {
        "id": "N59PKTlwa8bY"
      },
      "execution_count": 10,
      "outputs": []
    },
    {
      "cell_type": "markdown",
      "source": [
        "# 3.2 test_net"
      ],
      "metadata": {
        "id": "yrMbTs6Go8pa"
      }
    },
    {
      "cell_type": "code",
      "source": [
        "def test_net(model: nn.Module, testloader: torch.utils.data.DataLoader,\n",
        "             loss_fn: nn.modules.loss = None, device: str = 'cpu'):\n",
        "\n",
        "    model.eval()\n",
        "    pred_labels = []\n",
        "    true_labels = []\n",
        "    test_loss = 0.0\n",
        "    correct = 0\n",
        "    total = 0\n",
        "\n",
        "    print(device)\n",
        "    model.to(device)\n",
        "\n",
        "    with torch.no_grad():\n",
        "        for data, target in testloader:\n",
        "            data, target = data.to(device), target.to(device)\n",
        "            output = model(data)\n",
        "            ts_loss = loss(output, target)\n",
        "            test_loss += ts_loss.item() #* data.size(0)\n",
        "            _, predicted = torch.max(output, 1)\n",
        "            correct += (predicted == target).sum().item()\n",
        "            total += target.size(0)\n",
        "\n",
        "            true_labels.extend(target.cpu().numpy())\n",
        "            pred_labels.extend(predicted.cpu().numpy())\n",
        "\n",
        "    test_loss /= len(testloader.dataset)\n",
        "    test_acc = 100.0 * correct / total\n",
        "\n",
        "    print(f'Test Loss: {test_loss:.4f}, Test Accuracy: {test_acc:.2f}%')\n",
        "\n",
        "    return pred_labels, true_labels"
      ],
      "metadata": {
        "id": "cdAcjMAgo-zb"
      },
      "execution_count": 11,
      "outputs": []
    },
    {
      "cell_type": "markdown",
      "source": [
        "# 4 Απλό ΣΝ∆"
      ],
      "metadata": {
        "id": "rvojnnoFtVZw"
      }
    },
    {
      "cell_type": "code",
      "source": [
        "class MyCNN(nn.Module):\n",
        "    def __init__(self):\n",
        "\n",
        "        super(MyCNN, self).__init__()\n",
        "\n",
        "        self.conv1 = nn.Conv2d(in_channels=3, out_channels=32, kernel_size=3, padding=1)\n",
        "        self.relu1 = nn.ReLU()\n",
        "        self.pool1 = nn.MaxPool2d(kernel_size=2, stride=2)\n",
        "\n",
        "        self.conv2 = nn.Conv2d(in_channels=32, out_channels=64, kernel_size=3, padding=1)\n",
        "        self.relu2 = nn.ReLU()\n",
        "        self.pool2 = nn.MaxPool2d(kernel_size=2, stride=2)\n",
        "\n",
        "        self.conv3 = nn.Conv2d(in_channels=64, out_channels=64, kernel_size=3, padding=1)\n",
        "        self.relu3 = nn.ReLU()\n",
        "        self.pool3 = nn.MaxPool2d(kernel_size=2, stride=2)\n",
        "\n",
        "        self.flatten = nn.Flatten()\n",
        "        self.fc = nn.Linear(2688, 64)\n",
        "\n",
        "    def forward(self, x):\n",
        "        x = self.pool1(self.relu1(self.conv1(x)))\n",
        "        x = self.pool2(self.relu2(self.conv2(x)))\n",
        "        x = self.pool3(self.relu3(self.conv3(x)))\n",
        "        x = self.flatten(x)\n",
        "        x = self.fc(x)\n",
        "        return x"
      ],
      "metadata": {
        "id": "BbH786o2tZUl"
      },
      "execution_count": 12,
      "outputs": []
    },
    {
      "cell_type": "markdown",
      "source": [
        "# Simple model"
      ],
      "metadata": {
        "id": "WMYsswkW1jK0"
      }
    },
    {
      "cell_type": "code",
      "source": [
        "model = MyCNN()\n",
        "loss = nn.CrossEntropyLoss()\n",
        "optimizer = torch.optim.SGD(model.parameters(), 0.1)"
      ],
      "metadata": {
        "id": "z96nrp-XMqjs"
      },
      "execution_count": 13,
      "outputs": []
    },
    {
      "cell_type": "code",
      "source": [
        "train_losses, train_accuracies, val_losses, val_accuracies = train_net(\n",
        "    model, trainloader, valloader, epochs=20, optimizer=optimizer, loss=loss,\n",
        "    device='cuda', print_period=1\n",
        ")\n",
        "\n",
        "plt.figure(figsize=(12, 4))\n",
        "\n",
        "epochs = range(1, 21)\n",
        "\n",
        "plt.subplot(1, 2, 1)\n",
        "plt.plot(epochs, train_losses, label='Training Loss')\n",
        "plt.plot(epochs, val_losses, label='Validation Loss')\n",
        "plt.xlabel('Epoch')\n",
        "plt.ylabel('Loss')\n",
        "plt.title('Training - Validation Loss')\n",
        "plt.legend()\n",
        "\n",
        "plt.subplot(1, 2, 2)\n",
        "plt.plot(epochs, train_accuracies, label='Training Accuracy')\n",
        "plt.plot(epochs, val_accuracies, label='Validation Accuracy')\n",
        "plt.xlabel('Epoch')\n",
        "plt.ylabel('Accuracy')\n",
        "plt.title('Training - Validation Accuracy')\n",
        "plt.legend()\n",
        "\n",
        "plt.tight_layout()\n",
        "plt.show()"
      ],
      "metadata": {
        "id": "P3EZeb3-UnR1"
      },
      "execution_count": null,
      "outputs": []
    },
    {
      "cell_type": "code",
      "source": [
        "# Evaluate the model in test_set\n",
        "pred_labels, true_labels = test_net(model, testloader, loss, device=\"cuda\")\n",
        "\n",
        "conf_matrix = confusion_matrix(true_labels, pred_labels)\n",
        "\n",
        "plt.figure(figsize=(8, 6))\n",
        "sns.heatmap(conf_matrix, annot=True, fmt='d', cmap='Blues')\n",
        "plt.xlabel('Predicted Label')\n",
        "plt.ylabel('True Label')\n",
        "plt.title('Confusion Matrix')\n",
        "plt.show()\n",
        "print(conf_matrix)"
      ],
      "metadata": {
        "id": "GtHARrdN-OJr"
      },
      "execution_count": null,
      "outputs": []
    }
  ]
}